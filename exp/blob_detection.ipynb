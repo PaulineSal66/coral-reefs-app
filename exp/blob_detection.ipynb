{
 "cells": [
  {
   "cell_type": "markdown",
   "id": "31231765",
   "metadata": {},
   "source": [
    "# Blob Detection\n",
    "Experimenting with OpenCV's SimpleBlobDetector. Resource: <a href=\"https://github.com/bnsreenu/python_for_image_processing_APEER/blob/master/tutorial56_simple_blob_detector.py\" target=\"_blank\">APEER Tutorial</a>."
   ]
  },
  {
   "cell_type": "code",
   "execution_count": 1,
   "id": "2d81e9bf",
   "metadata": {},
   "outputs": [],
   "source": [
    "import matplotlib.pyplot as plt\n",
    "import numpy as np\n",
    "import cv2\n",
    "from PIL import Image"
   ]
  },
  {
   "cell_type": "code",
   "execution_count": 3,
   "id": "80be3de4",
   "metadata": {},
   "outputs": [],
   "source": [
    "# Define an input image\n",
    "input_image = \"../images/text_labels/2018-08-09 MooE2B #1.jpg\""
   ]
  },
  {
   "cell_type": "code",
   "execution_count": 4,
   "id": "34d8c5f5",
   "metadata": {},
   "outputs": [],
   "source": [
    "# Load an input image\n",
    "image = cv2.imread(input_image)"
   ]
  },
  {
   "cell_type": "markdown",
   "id": "3bfb05f0",
   "metadata": {},
   "source": [
    "### Set up parameters for blob detection\n",
    "Documentation available here: https://learnopencv.com/blob-detection-using-opencv-python-c/"
   ]
  },
  {
   "cell_type": "code",
   "execution_count": 5,
   "id": "ae61622c",
   "metadata": {},
   "outputs": [],
   "source": [
    "# Set up the SimpleBlobdetector with default parameters.\n",
    "params = cv2.SimpleBlobDetector_Params()"
   ]
  },
  {
   "cell_type": "code",
   "execution_count": 7,
   "id": "541a0529",
   "metadata": {},
   "outputs": [],
   "source": [
    "# Define thresholds.\n",
    "#Can define thresholdStep. See documentation. \n",
    "params.minThreshold = 25\n",
    "params.maxThreshold = 200"
   ]
  },
  {
   "cell_type": "code",
   "execution_count": 8,
   "id": "1d4b7ddf",
   "metadata": {},
   "outputs": [],
   "source": [
    "# Filter by Area.\n",
    "params.filterByArea = True\n",
    "params.minArea = 1000\n",
    "params.maxArea = 10000"
   ]
  },
  {
   "cell_type": "code",
   "execution_count": 9,
   "id": "2d3ba0f0",
   "metadata": {},
   "outputs": [],
   "source": [
    "# Filter by Color (black=0)\n",
    "params.filterByColor = False  #Set true for cast_iron as we'll be detecting black regions\n",
    "params.blobColor = 127"
   ]
  },
  {
   "cell_type": "code",
   "execution_count": 10,
   "id": "c22249fc",
   "metadata": {},
   "outputs": [],
   "source": [
    "# Filter by Circularity\n",
    "params.filterByCircularity = False\n",
    "params.minCircularity = 0.5\n",
    "params.maxCircularity = 1"
   ]
  },
  {
   "cell_type": "code",
   "execution_count": 11,
   "id": "005012be",
   "metadata": {},
   "outputs": [],
   "source": [
    "# Filter by Convexity\n",
    "params.filterByConvexity = False\n",
    "params.minConvexity = 0.5\n",
    "params.maxConvexity = 1"
   ]
  },
  {
   "cell_type": "code",
   "execution_count": 12,
   "id": "48ba5fe8",
   "metadata": {},
   "outputs": [],
   "source": [
    "# Filter by InertiaRatio\n",
    "params.filterByInertia = True\n",
    "params.minInertiaRatio = 0\n",
    "params.maxInertiaRatio = 1"
   ]
  },
  {
   "cell_type": "code",
   "execution_count": 13,
   "id": "43c28e11",
   "metadata": {},
   "outputs": [],
   "source": [
    "# Distance Between Blobs\n",
    "params.minDistBetweenBlobs = 500"
   ]
  },
  {
   "cell_type": "markdown",
   "id": "b2806d06",
   "metadata": {},
   "source": [
    "### Instantiate the detector and detect blobs in an image"
   ]
  },
  {
   "cell_type": "code",
   "execution_count": 14,
   "id": "cdcf608f",
   "metadata": {},
   "outputs": [],
   "source": [
    "# Setup the detector with parameters\n",
    "detector = cv2.SimpleBlobDetector_create(params)"
   ]
  },
  {
   "cell_type": "code",
   "execution_count": 15,
   "id": "5a10450c",
   "metadata": {},
   "outputs": [],
   "source": [
    "# Detect blobs\n",
    "keypoints = detector.detect(image)"
   ]
  },
  {
   "cell_type": "code",
   "execution_count": 16,
   "id": "cbccddfb",
   "metadata": {},
   "outputs": [
    {
     "name": "stdout",
     "output_type": "stream",
     "text": [
      "Number of blobs detected are :  39\n"
     ]
    }
   ],
   "source": [
    "print(\"Number of blobs detected are : \", len(keypoints))"
   ]
  },
  {
   "cell_type": "code",
   "execution_count": 17,
   "id": "242b64c9",
   "metadata": {},
   "outputs": [],
   "source": [
    "#Draw blobs\n",
    "img_with_blobs = cv2.drawKeypoints(image, keypoints, np.array([]), (0,0,255), cv2.DRAW_MATCHES_FLAGS_DRAW_RICH_KEYPOINTS)"
   ]
  },
  {
   "cell_type": "code",
   "execution_count": null,
   "id": "193b7a1f",
   "metadata": {},
   "outputs": [],
   "source": [
    "cv2.imshow(\"Keypoints\", img_with_blobs)\n",
    "cv2.waitKey(0)\n",
    "cv2.destroyAllWindows()"
   ]
  },
  {
   "cell_type": "code",
   "execution_count": null,
   "id": "c91c7ca6",
   "metadata": {},
   "outputs": [],
   "source": [
    "# Write the image\n",
    "cv2.imwrite(\"../images/text_labels/blobs.jpg\", img_with_blobs)"
   ]
  },
  {
   "cell_type": "markdown",
   "id": "eee2a706",
   "metadata": {},
   "source": [
    "### View image with detected blobs"
   ]
  },
  {
   "cell_type": "code",
   "execution_count": null,
   "id": "e414dbde",
   "metadata": {},
   "outputs": [],
   "source": [
    "# Do not execute or the kernel will get stuck\n",
    "# img = Image.open(\"../images/text_labels/blobs.jpg\")"
   ]
  },
  {
   "cell_type": "code",
   "execution_count": null,
   "id": "9081073e",
   "metadata": {},
   "outputs": [],
   "source": [
    "display(img)"
   ]
  },
  {
   "cell_type": "markdown",
   "id": "907b029f",
   "metadata": {},
   "source": [
    "## Next steps\n",
    "This result is obviously not good. However, some of the image restoration algorithms created interesting results in greyscale with clearly defined contours for coral structures. We should test the SimpleBlobDetector on a treated image to see if we can generate a useful mask."
   ]
  },
  {
   "cell_type": "code",
   "execution_count": null,
   "id": "698f3a81",
   "metadata": {},
   "outputs": [],
   "source": []
  }
 ],
 "metadata": {
  "kernelspec": {
   "display_name": "google-vision-testing",
   "language": "python",
   "name": "google-vision-testing"
  },
  "language_info": {
   "codemirror_mode": {
    "name": "ipython",
    "version": 3
   },
   "file_extension": ".py",
   "mimetype": "text/x-python",
   "name": "python",
   "nbconvert_exporter": "python",
   "pygments_lexer": "ipython3",
   "version": "3.8.10"
  }
 },
 "nbformat": 4,
 "nbformat_minor": 5
}
